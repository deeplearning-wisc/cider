{
  "nbformat": 4,
  "nbformat_minor": 0,
  "metadata": {
    "colab": {
      "provenance": [],
      "machine_shape": "hm",
      "gpuType": "V100",
      "authorship_tag": "ABX9TyN2yOubhH/FFcV+4frL3NWy",
      "include_colab_link": true
    },
    "kernelspec": {
      "name": "python3",
      "display_name": "Python 3"
    },
    "language_info": {
      "name": "python"
    },
    "accelerator": "GPU"
  },
  "cells": [
    {
      "cell_type": "markdown",
      "metadata": {
        "id": "view-in-github",
        "colab_type": "text"
      },
      "source": [
        "<a href=\"https://colab.research.google.com/github/nebojsa-bozanic/cider/blob/colab/Cider_ICLR2023.ipynb\" target=\"_parent\"><img src=\"https://colab.research.google.com/assets/colab-badge.svg\" alt=\"Open In Colab\"/></a>"
      ]
    },
    {
      "cell_type": "markdown",
      "source": [
        "This is a Colab reproduction/presentation of ICLR2023 paper: \"How to Exploit Hyperspherical Embeddings for Out-of-Distribution Detection?\""
      ],
      "metadata": {
        "id": "ScWkEYXU-Yb_"
      }
    },
    {
      "cell_type": "code",
      "execution_count": null,
      "metadata": {
        "id": "Yjnu86AT-BM-"
      },
      "outputs": [],
      "source": [
        "!git clone https://github.com/deeplearning-wisc/cider.git"
      ]
    },
    {
      "cell_type": "markdown",
      "source": [
        "## Data Preparation"
      ],
      "metadata": {
        "id": "tWdd4P85_I5r"
      }
    },
    {
      "cell_type": "code",
      "source": [
        "!mkdir /content/cider/datasets/\n",
        "!mkdir /content/cider/datasets/small_OOD_dataset\n",
        "!mkdir /content/cider/datasets/small_OOD_dataset/svhn\n",
        "!mkdir /content/cider/datasets/small_OOD_dataset/places365\n",
        "!mkdir /content/cider/datasets/small_OOD_dataset/places365/test_subset\n",
        "!mkdir /content/cider/checkpoints/\n",
        "!mkdir /content/cider/checkpoints/CIFAR-10/\n",
        "!mkdir /content/cider/checkpoints/CIFAR-10/ckpt_c10"
      ],
      "metadata": {
        "id": "TcbRTYu-ALW4"
      },
      "execution_count": null,
      "outputs": []
    },
    {
      "cell_type": "code",
      "source": [
        "%cd /content/cider/datasets/small_OOD_dataset\n",
        "!wget https://www.dropbox.com/s/fhtsw1m3qxlwj6h/LSUN.tar.gz\n",
        "!tar -xvzf LSUN.tar.gz"
      ],
      "metadata": {
        "id": "chIyhLzL_IEC"
      },
      "execution_count": null,
      "outputs": []
    },
    {
      "cell_type": "code",
      "source": [
        "!wget https://www.dropbox.com/s/moqh2wh8696c3yl/LSUN_resize.tar.gz\n",
        "!tar -xvzf LSUN_resize.tar.gz"
      ],
      "metadata": {
        "id": "ylkiuKJ3bUSJ"
      },
      "execution_count": null,
      "outputs": []
    },
    {
      "cell_type": "code",
      "source": [
        "!wget https://www.dropbox.com/s/ssz7qxfqae0cca5/iSUN.tar.gz\n",
        "!tar -xvzf iSUN.tar.gz"
      ],
      "metadata": {
        "id": "UlLqq5fdbf5x"
      },
      "execution_count": null,
      "outputs": []
    },
    {
      "cell_type": "markdown",
      "source": [
        "Super slow... (Depends on the server speed which sometimes can be xtremely slow)"
      ],
      "metadata": {
        "id": "GB2UmztRc_kK"
      }
    },
    {
      "cell_type": "code",
      "source": [
        "!wget https://www.robots.ox.ac.uk/~vgg/data/dtd/download/dtd-r1.0.1.tar.gz\n",
        "!tar -xvzf dtd-r1.0.1.tar.gz"
      ],
      "metadata": {
        "id": "nh7GBYMtby8Q"
      },
      "execution_count": null,
      "outputs": []
    },
    {
      "cell_type": "code",
      "source": [
        "%cd /content/cider/datasets/small_OOD_dataset/places365/test_subset/\n",
        "!wget http://data.csail.mit.edu/places/places365/test_256.tar\n",
        "!tar -xvf test_256.tar"
      ],
      "metadata": {
        "id": "nVE2l_hqbmz2"
      },
      "execution_count": null,
      "outputs": []
    },
    {
      "cell_type": "code",
      "source": [
        "%cd /content/cider/datasets/small_OOD_dataset/svhn\n",
        "!wget http://ufldl.stanford.edu/housenumbers/test_32x32.mat\n",
        "!tar -xvzf dtd-r1.0.1.tar.gz\n",
        "%cd /content/cider/\n",
        "!python utils/select_svhn_data.py"
      ],
      "metadata": {
        "id": "-V9yPAxWb5RU"
      },
      "execution_count": null,
      "outputs": []
    },
    {
      "cell_type": "markdown",
      "source": [
        "## Requirements"
      ],
      "metadata": {
        "id": "oUk-4cUxbCHK"
      }
    },
    {
      "cell_type": "code",
      "source": [
        "!pip install faiss-gpu"
      ],
      "metadata": {
        "id": "x8Y7GYv2CW_A"
      },
      "execution_count": null,
      "outputs": []
    },
    {
      "cell_type": "markdown",
      "source": [
        "## Models"
      ],
      "metadata": {
        "id": "qPdAkv6GbHa0"
      }
    },
    {
      "cell_type": "code",
      "source": [
        "!curl -L -C - -o '/content/cider/checkpoints/CIFAR-10/ckpt_c10/checkpoint_500.pth.tar' 'https://drive.google.com/u/0/uc?id=1w_WnXF_XJAmUWZgaO6NzqPhRLcO89rhb&export=download&confirm=t'"
      ],
      "metadata": {
        "id": "G9HlFTK7Fim7"
      },
      "execution_count": null,
      "outputs": []
    },
    {
      "cell_type": "markdown",
      "source": [
        "## Evaluation"
      ],
      "metadata": {
        "id": "usmuMtdPbJ38"
      }
    },
    {
      "cell_type": "markdown",
      "source": [
        "### Cifar10"
      ],
      "metadata": {
        "id": "gbU-7hYHyokB"
      }
    },
    {
      "cell_type": "code",
      "source": [
        "%cd /content/cider/\n",
        "!sh scripts/eval_ckpt_cifar10.sh ckpt_c10 #for CIFAR-10"
      ],
      "metadata": {
        "colab": {
          "base_uri": "https://localhost:8080/"
        },
        "id": "eNRqEYJw_bM9",
        "outputId": "52b4ac4a-59cc-4a1c-b0db-4ca227662f9c"
      },
      "execution_count": null,
      "outputs": [
        {
          "output_type": "stream",
          "name": "stdout",
          "text": [
            "/content/cider\n",
            "Namespace(in_dataset='CIFAR-10', batch_size=512, epoch='500', gpu=0, loss='cider', name='ckpt_c10', id_loc='datasets/CIFAR10', ood_loc='datasets/small_OOD_dataset', score='knn', K=100, subset=False, multiplier=1, model='resnet18', embedding_dim=512, feat_dim=128, head='mlp', out_as_pos=False, T=1000)\n",
            "Files already downloaded and verified\n",
            "Number of model parameters: 11502282\n",
            "100% 20/20 [00:02<00:00,  7.25it/s]\n",
            "preprocessing ID finished\n",
            "Evaluting OOD dataset SVHN\n",
            " 95% 19/20 [00:01<00:00, 10.65it/s]\n",
            "preprocessing OOD SVHN finished\n",
            "[0.41622543 0.07154357 0.11945868] [1.3931179 1.3658437 1.5260057]\n",
            "in score samples (random sampled): [0.41622543 0.07154357 0.11945868], out score samples: [1.3931179 1.3658437 1.5260057]\n",
            "FPR95:\t\t\t4.46\t+/- 0.00\n",
            "AUROC: \t\t\t99.17\t+/- 0.00\n",
            "AUPR:  \t\t\t99.11\t+/- 0.00\n",
            "Evaluting OOD dataset places365\n",
            " 95% 19/20 [00:08<00:00,  2.20it/s]\n",
            "preprocessing OOD places365 finished\n",
            "[0.41622543 0.07154357 0.11945868] [0.91724896 0.9022622  0.21752167]\n",
            "in score samples (random sampled): [0.41622543 0.07154357 0.11945868], out score samples: [0.91724896 0.9022622  0.21752167]\n",
            "FPR95:\t\t\t29.08\t+/- 0.00\n",
            "AUROC: \t\t\t94.80\t+/- 0.00\n",
            "AUPR:  \t\t\t95.15\t+/- 0.00\n",
            "Evaluting OOD dataset iSUN\n",
            "100% 18/18 [00:04<00:00,  4.10it/s]\n",
            "preprocessing OOD iSUN finished\n",
            "[0.41622543 0.07154357 0.11945868] [0.7109916 0.7666862 0.7343466]\n",
            "in score samples (random sampled): [0.41622543 0.07154357 0.11945868], out score samples: [0.7109916 0.7666862 0.7343466]\n",
            "FPR95:\t\t\t16.50\t+/- 0.00\n",
            "AUROC: \t\t\t96.96\t+/- 0.00\n",
            "AUPR:  \t\t\t97.86\t+/- 0.00\n",
            "Evaluting OOD dataset dtd\n",
            "100% 12/12 [00:18<00:00,  1.53s/it]\n",
            "preprocessing OOD dtd finished\n",
            "[0.41622543 0.07154357 0.11945868] [0.8985257  0.5274091  0.86264145]\n",
            "in score samples (random sampled): [0.41622543 0.07154357 0.11945868], out score samples: [0.8985257  0.5274091  0.86264145]\n",
            "FPR95:\t\t\t14.04\t+/- 0.00\n",
            "AUROC: \t\t\t97.56\t+/- 0.00\n",
            "AUPR:  \t\t\t98.66\t+/- 0.00\n",
            "Evaluting OOD dataset LSUN\n",
            " 95% 19/20 [00:04<00:00,  4.18it/s]\n",
            "preprocessing OOD LSUN finished\n",
            "[0.41622543 0.07154357 0.11945868] [0.7763735  1.0063827  0.84977984]\n",
            "in score samples (random sampled): [0.41622543 0.07154357 0.11945868], out score samples: [0.7763735  1.0063827  0.84977984]\n",
            "FPR95:\t\t\t4.53\t+/- 0.00\n",
            "AUROC: \t\t\t99.06\t+/- 0.00\n",
            "AUPR:  \t\t\t99.18\t+/- 0.00\n",
            "AVG\n",
            "FPR95:\t\t\t13.72\n",
            "AUROC: \t\t\t97.51\n",
            "AUPR:  \t\t\t97.99\n"
          ]
        }
      ]
    },
    {
      "cell_type": "markdown",
      "source": [
        "![table6cider.png](data:image/png;base64,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)"
      ],
      "metadata": {
        "id": "ICMCWmSLzr3D"
      }
    },
    {
      "cell_type": "markdown",
      "source": [
        "Results are in line with the table6 presented in the paper"
      ],
      "metadata": {
        "id": "j2UVIvnIzvfs"
      }
    },
    {
      "cell_type": "markdown",
      "source": [
        "### Cifar100"
      ],
      "metadata": {
        "id": "pWy_MBtQyqyu"
      }
    },
    {
      "cell_type": "code",
      "source": [
        "!mkdir /content/cider/datasets/\n",
        "!mkdir /content/cider/datasets/ImageNet_OOD_dataset/\n",
        "!mkdir /content/cider/checkpoints/\n",
        "!mkdir /content/cider/checkpoints/CIFAR-100\n",
        "!mkdir /content/cider/checkpoints/CIFAR-100/ckpt_c100"
      ],
      "metadata": {
        "id": "UdWGPvwY0HGe"
      },
      "execution_count": null,
      "outputs": []
    },
    {
      "cell_type": "code",
      "source": [
        "%cd /content/cider/datasets/ImageNet_OOD_dataset/"
      ],
      "metadata": {
        "colab": {
          "base_uri": "https://localhost:8080/"
        },
        "id": "MOv3MP-P0i89",
        "outputId": "cf91082d-dd8a-49ec-9d66-6e84db76f01e"
      },
      "execution_count": null,
      "outputs": [
        {
          "output_type": "stream",
          "name": "stdout",
          "text": [
            "/content/cider/datasets/ImageNet_OOD_dataset\n"
          ]
        }
      ]
    },
    {
      "cell_type": "code",
      "source": [
        "!wget http://pages.cs.wisc.edu/~huangrui/imagenet_ood_dataset/iNaturalist.tar.gz"
      ],
      "metadata": {
        "id": "N_Ipi7H10s1T"
      },
      "execution_count": null,
      "outputs": []
    },
    {
      "cell_type": "code",
      "source": [
        "!tar -xvzf iNaturalist.tar.gz"
      ],
      "metadata": {
        "id": "VQPbwF2i1Lfk"
      },
      "execution_count": null,
      "outputs": []
    },
    {
      "cell_type": "code",
      "source": [
        "!wget http://pages.cs.wisc.edu/~huangrui/imagenet_ood_dataset/SUN.tar.gz"
      ],
      "metadata": {
        "id": "FnryRN0i0rOB"
      },
      "execution_count": null,
      "outputs": []
    },
    {
      "cell_type": "code",
      "source": [
        "!tar -xvzf SUN.tar.gz"
      ],
      "metadata": {
        "id": "Ww3abqYz1TzI"
      },
      "execution_count": null,
      "outputs": []
    },
    {
      "cell_type": "code",
      "source": [
        "!wget http://pages.cs.wisc.edu/~huangrui/imagenet_ood_dataset/Places.tar.gz"
      ],
      "metadata": {
        "id": "bgHY_7FW1R8q"
      },
      "execution_count": null,
      "outputs": []
    },
    {
      "cell_type": "code",
      "source": [
        "!tar -xvzf Places.tar.gz"
      ],
      "metadata": {
        "id": "qJJU8ieL1UaX"
      },
      "execution_count": null,
      "outputs": []
    },
    {
      "cell_type": "code",
      "source": [
        "!curl -L -C - -o '/content/cider/checkpoints/CIFAR-100/ckpt_c100/checkpoint_500.pth.tar' 'https://drive.google.com/u/0/uc?id=1uH9WCu_Rx9Z9Xq7PKW4M3ADThXIWrege&export=download&confirm=t'"
      ],
      "metadata": {
        "id": "EOKVXhDM81sC"
      },
      "execution_count": null,
      "outputs": []
    },
    {
      "cell_type": "code",
      "source": [
        "%cd /content/cider/\n",
        "!sh scripts/eval_ckpt_cifar100.sh ckpt_c100 # for CIFAR-100"
      ],
      "metadata": {
        "colab": {
          "base_uri": "https://localhost:8080/"
        },
        "id": "hjxPVUMG1XwD",
        "outputId": "d6556fe1-73ae-4dcf-ebd1-37ad6819c1ab"
      },
      "execution_count": null,
      "outputs": [
        {
          "output_type": "stream",
          "name": "stdout",
          "text": [
            "/content/cider\n",
            "Namespace(in_dataset='CIFAR-100', batch_size=512, epoch='500', gpu=0, loss='cider', name='ckpt_c100', id_loc='datasets/CIFAR100', ood_loc='datasets/small_OOD_dataset', score='knn', K=300, subset=False, multiplier=1, model='resnet34', embedding_dim=512, feat_dim=128, head='mlp', out_as_pos=False, T=1000)\n",
            "Downloading https://www.cs.toronto.edu/~kriz/cifar-100-python.tar.gz to datasets/CIFAR100/cifar-100-python.tar.gz\n",
            "100% 169001437/169001437 [00:10<00:00, 16030511.00it/s]\n",
            "Extracting datasets/CIFAR100/cifar-100-python.tar.gz to datasets/CIFAR100\n",
            "Number of model parameters: 21656612\n",
            "100% 98/98 [00:09<00:00, 10.67it/s]\n",
            "100% 20/20 [00:02<00:00,  9.86it/s]\n",
            "preprocessing ID finished\n",
            "Evaluting OOD dataset SVHN\n",
            " 95% 19/20 [00:01<00:00,  9.76it/s]\n",
            "preprocessing OOD SVHN finished\n",
            "[0.8606044 1.0146748 0.9631491] [1.1921992 1.2920157 0.9584688]\n",
            "in score samples (random sampled): [0.8606044 1.0146748 0.9631491], out score samples: [1.1921992 1.2920157 0.9584688]\n",
            "FPR95:\t\t\t23.00\t+/- 0.00\n",
            "AUROC: \t\t\t95.17\t+/- 0.00\n",
            "AUPR:  \t\t\t95.28\t+/- 0.00\n",
            "Evaluting OOD dataset places365\n",
            " 95% 19/20 [00:14<00:00,  1.31it/s]\n",
            "preprocessing OOD places365 finished\n",
            "[0.8606044 1.0146748 0.9631491] [0.72647154 1.0195732  0.9944539 ]\n",
            "in score samples (random sampled): [0.8606044 1.0146748 0.9631491], out score samples: [0.72647154 1.0195732  0.9944539 ]\n",
            "FPR95:\t\t\t79.10\t+/- 0.00\n",
            "AUROC: \t\t\t73.58\t+/- 0.00\n",
            "AUPR:  \t\t\t74.94\t+/- 0.00\n",
            "Evaluting OOD dataset iSUN\n",
            "100% 18/18 [00:04<00:00,  4.04it/s]\n",
            "preprocessing OOD iSUN finished\n",
            "[0.8606044 1.0146748 0.9631491] [0.7295264 1.0052737 1.0181851]\n",
            "in score samples (random sampled): [0.8606044 1.0146748 0.9631491], out score samples: [0.7295264 1.0052737 1.0181851]\n",
            "FPR95:\t\t\t71.64\t+/- 0.00\n",
            "AUROC: \t\t\t80.84\t+/- 0.00\n",
            "AUPR:  \t\t\t84.26\t+/- 0.00\n",
            "Evaluting OOD dataset dtd\n",
            "100% 12/12 [00:18<00:00,  1.51s/it]\n",
            "preprocessing OOD dtd finished\n",
            "[0.8606044 1.0146748 0.9631491] [0.9866276 1.2796273 0.9743643]\n",
            "in score samples (random sampled): [0.8606044 1.0146748 0.9631491], out score samples: [0.9866276 1.2796273 0.9743643]\n",
            "FPR95:\t\t\t43.74\t+/- 0.00\n",
            "AUROC: \t\t\t90.42\t+/- 0.00\n",
            "AUPR:  \t\t\t94.40\t+/- 0.00\n",
            "Evaluting OOD dataset LSUN\n",
            " 95% 19/20 [00:04<00:00,  3.92it/s]\n",
            "preprocessing OOD LSUN finished\n",
            "[0.8606044 1.0146748 0.9631491] [1.2811726 1.3299094 1.1451957]\n",
            "in score samples (random sampled): [0.8606044 1.0146748 0.9631491], out score samples: [1.2811726 1.3299094 1.1451957]\n",
            "FPR95:\t\t\t16.17\t+/- 0.00\n",
            "AUROC: \t\t\t96.33\t+/- 0.00\n",
            "AUPR:  \t\t\t96.10\t+/- 0.00\n",
            "AVG\n",
            "FPR95:\t\t\t46.73\n",
            "AUROC: \t\t\t87.27\n",
            "AUPR:  \t\t\t89.00\n"
          ]
        }
      ]
    }
  ]
}